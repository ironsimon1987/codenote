{
 "cells": [
  {
   "cell_type": "markdown",
   "id": "200f49a1-6006-4018-913a-1ce77c69d0bc",
   "metadata": {},
   "source": [
    "\n",
    "编写 Python 程序的时候，一定要把编码和解码操作放在界面最外围来做。程序的核心部分应该使用 Unicode 字符类型（也就是 python3 的 str、python2 中的 unicode), 而且不要对字符编码做任何假设。这种办法既可以令程序接受多种类型的文本编码，又可以保证输出的文本信息只采用一种编码形式"
   ]
  },
  {
   "cell_type": "code",
   "execution_count": 4,
   "id": "e0fa3a8f-c641-4cdc-b8c6-14ec7c82533e",
   "metadata": {},
   "outputs": [],
   "source": [
    "matrix = [[1,2,3],[4,5,6],[7,8,9]]"
   ]
  },
  {
   "cell_type": "code",
   "execution_count": 5,
   "id": "6100709a-cbb4-4482-80cb-ae64c3c9bbf2",
   "metadata": {},
   "outputs": [
    {
     "data": {
      "text/plain": [
       "[1, 2, 3, 4, 5, 6, 7, 8, 9]"
      ]
     },
     "execution_count": 5,
     "metadata": {},
     "output_type": "execute_result"
    }
   ],
   "source": [
    "# 从左至右的顺序来执行\n",
    "[x for row in matrix for x in row]"
   ]
  },
  {
   "cell_type": "code",
   "execution_count": 6,
   "id": "cbc4379b-25e3-43c4-a3a2-a0a471e53751",
   "metadata": {},
   "outputs": [
    {
     "data": {
      "text/plain": [
       "[[1, 4, 9], [16, 25, 36], [49, 64, 81]]"
      ]
     },
     "execution_count": 6,
     "metadata": {},
     "output_type": "execute_result"
    }
   ],
   "source": [
    "[[x**2 for x in row] for row in matrix]"
   ]
  },
  {
   "cell_type": "markdown",
   "id": "96542ddf-e170-43b1-bab6-099728609384",
   "metadata": {},
   "source": [
    "列表推导的缺点是：在推导过程中，对于输入序列中的每个值来说，可能都要创建仅含一项元素的全新列表。\n",
    "使用生成器表达式，把实现列表推导所用的写法放在一对圆括号中，就构成了生成器表达式。"
   ]
  },
  {
   "cell_type": "code",
   "execution_count": 14,
   "id": "cfd5eea1-5eb6-4b3c-8c45-624cd9ae8854",
   "metadata": {},
   "outputs": [],
   "source": [
    "it = ([x**2 for x in row] for row in matrix)"
   ]
  },
  {
   "cell_type": "code",
   "execution_count": 16,
   "id": "dde22e08-a1ae-48ba-99c1-2a5e16d82980",
   "metadata": {},
   "outputs": [
    {
     "name": "stdout",
     "output_type": "stream",
     "text": [
      "[1, 4, 9]\n",
      "[16, 25, 36]\n",
      "[49, 64, 81]\n"
     ]
    }
   ],
   "source": [
    "for i in it:\n",
    "    print(i)"
   ]
  },
  {
   "cell_type": "markdown",
   "id": "febc5a8b-5b0c-49b7-8f3f-fd8cf0d13b4c",
   "metadata": {},
   "source": [
    "itertools 内置模块中的 zip_longest 函数可以平行地遍历多个迭代器，而不用在乎它们的长度是否相等"
   ]
  },
  {
   "cell_type": "code",
   "execution_count": 17,
   "id": "ea6c5c0a-996f-479c-978b-329e639c9959",
   "metadata": {},
   "outputs": [],
   "source": [
    "from itertools import zip_longest\n",
    "\n",
    "a = [\"x\", \"y\", \"z\"]\n",
    "b = [1,2]"
   ]
  },
  {
   "cell_type": "code",
   "execution_count": 19,
   "id": "d5ee8020-16f7-4e40-8f18-e24bd44baf16",
   "metadata": {},
   "outputs": [
    {
     "name": "stdout",
     "output_type": "stream",
     "text": [
      "x 1\n",
      "y 2\n"
     ]
    }
   ],
   "source": [
    "for i,j in zip(a,b):\n",
    "    print(i,j)"
   ]
  },
  {
   "cell_type": "code",
   "execution_count": 21,
   "id": "fb021071-ff10-4bbf-95db-15012956c6eb",
   "metadata": {},
   "outputs": [
    {
     "name": "stdout",
     "output_type": "stream",
     "text": [
      "x 1\n",
      "y 2\n",
      "z None\n"
     ]
    }
   ],
   "source": [
    "for i,j in zip_longest(a,b):\n",
    "    print(i,j)"
   ]
  },
  {
   "cell_type": "markdown",
   "id": "d2cad80d-d1f8-4e69-810d-fcd106d51ead",
   "metadata": {},
   "source": [
    "尽量用异常来表示特殊情况，而不要返回`None`\n",
    "如果 None 这个返回值，对函数有特殊意义，那么在编写 Python 代码来调用该函数时，就很容易犯上面这种错误。由此可见，令函数返回 None，可能会使调用它的人写出错误的代码。两种方法处理这种问题：\n",
    "1. 把返回值拆成两部分，并放到二元组里面。\n",
    "2. 直接把异常抛给上一级"
   ]
  },
  {
   "cell_type": "code",
   "execution_count": 3,
   "id": "ff17eae3-675e-47f7-b792-4eef91a57dae",
   "metadata": {},
   "outputs": [],
   "source": [
    "def index_words(text):\n",
    "    result = []\n",
    "    if text:\n",
    "        result.append(0)\n",
    "    for index, letter in enumerate(text):\n",
    "        if letter == \" \":\n",
    "            result.append(index + 1)\n",
    "    return result"
   ]
  },
  {
   "cell_type": "code",
   "execution_count": 4,
   "id": "6e8e5c32-2700-46a1-93f7-6d54fbe7d75b",
   "metadata": {},
   "outputs": [
    {
     "name": "stdout",
     "output_type": "stream",
     "text": [
      "[0, 5, 11]\n"
     ]
    }
   ],
   "source": [
    "address = \"Four score and seven years ago...\"\n",
    "result = index_words(address)\n",
    "print(result[:3])"
   ]
  },
  {
   "cell_type": "markdown",
   "id": "c11f5625-dde9-4944-9606-84ae47190d82",
   "metadata": {},
   "source": [
    "如果把迭代器传给内置的 iter 函数，那么 iter 函数则每次都会返回新的迭代器对象，即\n",
    "```python\n",
    "a = []\n",
    "if iter(a) is iter(a):\n",
    "    print(\"An iterator\")\n",
    "else:\n",
    "    print(\"An container\")\n",
    "```"
   ]
  },
  {
   "cell_type": "code",
   "execution_count": 21,
   "id": "b14b9b68-3aac-43c1-a02c-cd376443ae24",
   "metadata": {},
   "outputs": [],
   "source": [
    "def add(num, *nums):\n",
    "    if not nums:\n",
    "        return num\n",
    "    else:\n",
    "        return num + sum(nums)"
   ]
  },
  {
   "cell_type": "code",
   "execution_count": 25,
   "id": "4d4cf4ca-aefb-40f4-9570-ff281a1c8dc2",
   "metadata": {},
   "outputs": [
    {
     "data": {
      "text/plain": [
       "4"
      ]
     },
     "execution_count": 25,
     "metadata": {},
     "output_type": "execute_result"
    }
   ],
   "source": [
    "add(1, 1,2)"
   ]
  },
  {
   "cell_type": "markdown",
   "id": "a3edf9f4-334c-46f5-a402-b3a1bf7482d4",
   "metadata": {},
   "source": [
    "以关键字参数来调用函数，能使读到这行代码的人更容易理解其含义。"
   ]
  },
  {
   "cell_type": "code",
   "execution_count": 26,
   "id": "0f354ddf-7282-4e4a-87d5-72a599f8141a",
   "metadata": {},
   "outputs": [
    {
     "name": "stdout",
     "output_type": "stream",
     "text": [
      "2022-11-09 11:19:50.907294: Hi there!\n",
      "2022-11-09 11:19:50.907294: Hi again!\n"
     ]
    }
   ],
   "source": [
    "from datetime import datetime\n",
    "import time\n",
    "\n",
    "def log(message, when=datetime.now()):\n",
    "    print('%s: %s' % (when, message))\n",
    "\n",
    "log(\"Hi there!\")\n",
    "time.sleep(1)\n",
    "log(\"Hi again!\")"
   ]
  },
  {
   "cell_type": "markdown",
   "id": "161acfff-1ea5-431c-baa9-73ff827e1965",
   "metadata": {},
   "source": [
    "上述两条信息的时间戳是一致的，因为 `datetime.now` 只执行了一次，因为它只在函数定义的时候执行了一次。参数的默认值，会在每个模块加载进来的时候求出，\n",
    "而很多模块都是在程序启动时加载的。\n",
    "因此如果参数的实际默认值是可变类型，那就一定要记得用 None 作为形式上的默认值。"
   ]
  },
  {
   "cell_type": "markdown",
   "id": "16ecce14-0a9c-4fdb-b8ef-bf205594c82a",
   "metadata": {},
   "source": [
    "对于复杂的函数而言，最好是能保证调用者必须以清晰的方式调用代码，来阐明调用该函数的意图。\n",
    "```python\n",
    "def safe_division_c(number, divisor, *, ignore_overflow=False, ignore_zero_division=False):\n",
    "    ...\n",
    "```"
   ]
  },
  {
   "cell_type": "code",
   "execution_count": null,
   "id": "511da137-4616-499a-b578-dad37fb0f035",
   "metadata": {},
   "outputs": [],
   "source": [
    "如果没办法完全控制 namedtuple 实例的用法，那么最好是定义自己的类"
   ]
  }
 ],
 "metadata": {
  "kernelspec": {
   "display_name": "Python 3 (ipykernel)",
   "language": "python",
   "name": "python3"
  },
  "language_info": {
   "codemirror_mode": {
    "name": "ipython",
    "version": 3
   },
   "file_extension": ".py",
   "mimetype": "text/x-python",
   "name": "python",
   "nbconvert_exporter": "python",
   "pygments_lexer": "ipython3",
   "version": "3.8.13"
  }
 },
 "nbformat": 4,
 "nbformat_minor": 5
}
