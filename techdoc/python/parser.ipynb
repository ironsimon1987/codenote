{
 "cells": [
  {
   "cell_type": "code",
   "execution_count": 3,
   "metadata": {},
   "outputs": [],
   "source": [
    "import operator\n",
    "import typing as tp"
   ]
  },
  {
   "cell_type": "markdown",
   "metadata": {},
   "source": []
  },
  {
   "cell_type": "code",
   "execution_count": 4,
   "metadata": {},
   "outputs": [],
   "source": [
    "ParserP = tp.Callable[[str], tp.Tuple[tp.Any, str]]\n",
    "# A simple parser\n",
    "example_parser = lambda s: (s[0], s[1:])"
   ]
  },
  {
   "cell_type": "code",
   "execution_count": 5,
   "metadata": {},
   "outputs": [],
   "source": [
    "class ParserError(Exception):\n",
    "    def __init__(self, msg, content):\n",
    "        super().__init__(f\"{msg}: {content}\")\n",
    "\n",
    "def parse(p: ParserP, s:str) -> tp.Tuple[tp.Any, str]:\n",
    "    (a, s) = p(s)\n",
    "    return (a, s)\n",
    "\n",
    "def anyChar() -> ParserP:\n",
    "    def func(s):\n",
    "        return (s[0], s[1:])\n",
    "    return func"
   ]
  },
  {
   "cell_type": "code",
   "execution_count": 6,
   "metadata": {},
   "outputs": [
    {
     "data": {
      "text/plain": [
       "('h', 'ello world')"
      ]
     },
     "execution_count": 6,
     "metadata": {},
     "output_type": "execute_result"
    }
   ],
   "source": [
    "parse(anyChar(), \"hello world\")"
   ]
  },
  {
   "cell_type": "code",
   "execution_count": 8,
   "metadata": {},
   "outputs": [],
   "source": [
    "def oneChar(c) -> ParserP:\n",
    "    def func(s):\n",
    "        if s[0] == c:\n",
    "            return (s[0], s[1:])\n",
    "        raise ParserError(f\"Unexpected {s[0]}, expecting {c}\", s)\n",
    "\n",
    "    return func"
   ]
  },
  {
   "cell_type": "code",
   "execution_count": 9,
   "metadata": {},
   "outputs": [
    {
     "data": {
      "text/plain": [
       "('h', 'ello world')"
      ]
     },
     "execution_count": 9,
     "metadata": {},
     "output_type": "execute_result"
    }
   ],
   "source": [
    "parse(oneChar('h'), 'hello world')"
   ]
  },
  {
   "cell_type": "code",
   "execution_count": 10,
   "metadata": {},
   "outputs": [],
   "source": [
    "def anyDigit() -> ParserP:\n",
    "    def func(s):\n",
    "        if s[0].isdigit():\n",
    "            return (s[0], s[1:])\n",
    "        raise ParserError(f\"Expected digit, got {s[0]}\", s)\n",
    "\n",
    "    return func"
   ]
  },
  {
   "cell_type": "code",
   "execution_count": 11,
   "metadata": {},
   "outputs": [
    {
     "data": {
      "text/plain": [
       "('1', '23')"
      ]
     },
     "execution_count": 11,
     "metadata": {},
     "output_type": "execute_result"
    }
   ],
   "source": [
    "parse(anyDigit(), '123')"
   ]
  },
  {
   "cell_type": "code",
   "execution_count": 12,
   "metadata": {},
   "outputs": [],
   "source": [
    "# Generic Predicate Parser\n",
    "def satisfy(pred_function: tp.Callable[[\"char\"], bool]) -> ParserP:\n",
    "    def func(s):\n",
    "        if not s:\n",
    "            raise ParserError(\"Empty string\", \"\")\n",
    "        if pred_function(s[0]):\n",
    "            return (s[0], s[1:])\n",
    "        raise ParserError(f\"Unexpected condition\", s)\n",
    "    \n",
    "    return func"
   ]
  },
  {
   "cell_type": "code",
   "execution_count": 13,
   "metadata": {},
   "outputs": [],
   "source": [
    "def oneCharP(c) -> ParserP:\n",
    "    return satisfy(lambda c1: c == c1)\n",
    "\n",
    "def anyDigitP() -> ParserP:\n",
    "    return satisfy(lambda c: c.isdigit())"
   ]
  },
  {
   "cell_type": "code",
   "execution_count": 15,
   "metadata": {},
   "outputs": [],
   "source": [
    "def compose(p1: ParserP, p2: ParserP) -> ParserP:\n",
    "    def func(s):\n",
    "        (a, s1) = parse(p1, s)\n",
    "        (b, s2) = parse(p2, s1)\n",
    "        return ((a, b), s2)\n",
    "    \n",
    "    return func"
   ]
  },
  {
   "cell_type": "code",
   "execution_count": 18,
   "metadata": {},
   "outputs": [
    {
     "data": {
      "text/plain": [
       "(('h', 'e'), 'llo world')"
      ]
     },
     "execution_count": 18,
     "metadata": {},
     "output_type": "execute_result"
    }
   ],
   "source": [
    "hp = oneChar('h')\n",
    "ep = oneChar('e')\n",
    "parse(compose(hp, ep), \"hello world\")"
   ]
  },
  {
   "cell_type": "code",
   "execution_count": 19,
   "metadata": {},
   "outputs": [],
   "source": [
    "def choice(p1: ParserP, p2: ParserP) -> ParserP:\n",
    "    def func(s):\n",
    "        try:\n",
    "            return p1(s)\n",
    "        except ParserError:\n",
    "            return p2(s)\n",
    "    \n",
    "    return func"
   ]
  },
  {
   "cell_type": "code",
   "execution_count": 20,
   "metadata": {},
   "outputs": [],
   "source": [
    "def mathOp(op):\n",
    "    return satisfy(lambda c: c == op)\n",
    "\n",
    "def mathOpP() -> ParserP:\n",
    "    plus = mathOp(\"+\")\n",
    "    minus = mathOp(\"-\")\n",
    "    mult = mathOp(\"*\")\n",
    "    div = mathOp(\"/\")\n",
    "\n",
    "    return choice(plus, choice(minus, choice(mult, minus)))"
   ]
  },
  {
   "cell_type": "code",
   "execution_count": 21,
   "metadata": {},
   "outputs": [],
   "source": [
    "def expression_does_not_work():\n",
    "    def func(s):\n",
    "\n",
    "        (digit1, s1) = parse(anyDigitP(), s)\n",
    "        (op, s2) = parse(mathOpP(), s1)\n",
    "        (digit2, s3) = parse(anyDigitP(), s2) # this does not work\n",
    "\n",
    "        return ((int(digit1), op, int(digit2)), s3)\n",
    "\n",
    "    return func"
   ]
  },
  {
   "cell_type": "code",
   "execution_count": 22,
   "metadata": {},
   "outputs": [
    {
     "data": {
      "text/plain": [
       "((1, '+', 2), '')"
      ]
     },
     "execution_count": 22,
     "metadata": {},
     "output_type": "execute_result"
    }
   ],
   "source": [
    "parse(expression_does_not_work(), \"1+2\")"
   ]
  },
  {
   "cell_type": "code",
   "execution_count": null,
   "metadata": {},
   "outputs": [],
   "source": []
  }
 ],
 "metadata": {
  "interpreter": {
   "hash": "b926eef2c9a2a01b8ec911882a4745aa273d28b3abbcdaa7c320a2db203b72b6"
  },
  "kernelspec": {
   "display_name": "Python 3.10.0b2 64-bit ('3.10.0b2': pyenv)",
   "language": "python",
   "name": "python3"
  },
  "language_info": {
   "codemirror_mode": {
    "name": "ipython",
    "version": 3
   },
   "file_extension": ".py",
   "mimetype": "text/x-python",
   "name": "python",
   "nbconvert_exporter": "python",
   "pygments_lexer": "ipython3",
   "version": "3.10.0b2"
  },
  "orig_nbformat": 4
 },
 "nbformat": 4,
 "nbformat_minor": 2
}
