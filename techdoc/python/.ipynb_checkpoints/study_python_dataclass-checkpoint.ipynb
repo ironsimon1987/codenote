{
 "cells": [
  {
   "cell_type": "markdown",
   "id": "17674956-8275-41e9-9522-c47dbeb7fd1b",
   "metadata": {},
   "source": [
    "`dataclass` 提供装饰用于为开发者自定义的类自动添加魔术方法（`__init__` etc），我们可以对比以下例子：\n",
    "1. 常规实现\n",
    "2. 使用装饰器的实现"
   ]
  },
  {
   "cell_type": "code",
   "execution_count": 19,
   "id": "b27b789f-f0d3-49e2-ab3c-526d7dd5f1c4",
   "metadata": {},
   "outputs": [],
   "source": [
    "# 常规实现\n",
    "class InvertoryItemBase:\n",
    "    def __init__(self, name:str, unit_price:float, quantity_on_hand:int=0):\n",
    "        self.name = name\n",
    "        self.unit_price = unit_price\n",
    "        self.quantity_on_hand = quantity_on_hand\n",
    "    \n",
    "    def __repr__(self):\n",
    "        cls = type(self).__name__\n",
    "        return f\"{cls}(name='{self.name}',unit_price={self.unit_price},quantity_on_hand={self.quantity_on_hand})\"\n",
    "    \n",
    "    def total_cost(self) -> float:\n",
    "        return self.unit_price * self.quantity_on_hand"
   ]
  },
  {
   "cell_type": "code",
   "execution_count": 20,
   "id": "e5895466-4bd4-4772-a41f-0bd2e6810594",
   "metadata": {},
   "outputs": [
    {
     "data": {
      "text/plain": [
       "InvertoryItemBase(name='Test',unit_price=2,quantity_on_hand=0)"
      ]
     },
     "execution_count": 20,
     "metadata": {},
     "output_type": "execute_result"
    }
   ],
   "source": [
    "InvertoryItemBase(name='Test', unit_price=2, quantity_on_hand=0)"
   ]
  },
  {
   "cell_type": "code",
   "execution_count": 17,
   "id": "a84a25ff-5c5b-48e9-91e1-bc29810f11ad",
   "metadata": {},
   "outputs": [],
   "source": [
    "# 使用装饰器实现\n",
    "from dataclasses import dataclass\n",
    "\n",
    "@dataclass\n",
    "class InventoryItem:\n",
    "    \"\"\"Class for keeping track of an item in inventory.\"\"\"\n",
    "    name:str\n",
    "    unit_price: float\n",
    "    quantity_on_hand: int = 0\n",
    "\n",
    "    def total_cost(self) -> float:\n",
    "        return self.unit_price * self.quantity_on_hand"
   ]
  },
  {
   "cell_type": "code",
   "execution_count": 18,
   "id": "59eb9208-7f60-47e0-be0e-427323b16ef2",
   "metadata": {},
   "outputs": [
    {
     "data": {
      "text/plain": [
       "InventoryItem(name='Test', unit_price=2, quantity_on_hand=0)"
      ]
     },
     "execution_count": 18,
     "metadata": {},
     "output_type": "execute_result"
    }
   ],
   "source": [
    "InventoryItem(name=\"Test\",unit_price=2)"
   ]
  },
  {
   "cell_type": "markdown",
   "id": "a8dadf25-280c-4e19-9540-c0669e88c28a",
   "metadata": {},
   "source": [
    "对比两种实现，第一种实现需要实现`__init__`方法将入参赋值给实例变量以完成初始化，需要实现`__repr__`方法使实例输出美化，反观第二种实现则显得简洁。"
   ]
  },
  {
   "cell_type": "markdown",
   "id": "4e808ca3-3aee-4fff-9a01-e92cb8b09689",
   "metadata": {},
   "source": [
    "`dataclass` 装饰器会检查类中的属性定义，这些属性的定义以`类变量 + 类型注释` 构成（如果缺少类型注释，就会被忽略），这些属性出现在类的定义的顺序，决定了他们在其他自动生成的方法的参数的顺序"
   ]
  }
 ],
 "metadata": {
  "kernelspec": {
   "display_name": "Python 3 (ipykernel)",
   "language": "python",
   "name": "python3"
  },
  "language_info": {
   "codemirror_mode": {
    "name": "ipython",
    "version": 3
   },
   "file_extension": ".py",
   "mimetype": "text/x-python",
   "name": "python",
   "nbconvert_exporter": "python",
   "pygments_lexer": "ipython3",
   "version": "3.8.13"
  }
 },
 "nbformat": 4,
 "nbformat_minor": 5
}
